{
 "cells": [
  {
   "cell_type": "markdown",
   "id": "87e496d5",
   "metadata": {},
   "source": [
    "# Classification model evaluation metrics\n",
    "\n",
    "1. Accuracy\n",
    "2. Area under ROC(Receiver Operator Characteristics) Curve\n",
    "3. Confusion Matrix\n",
    "4. Classification report\n",
    "\n",
    "** Accuracy **"
   ]
  },
  {
   "cell_type": "code",
   "execution_count": 2,
   "id": "3de4a6cf",
   "metadata": {},
   "outputs": [
    {
     "data": {
      "text/plain": [
       "0.8248087431693989"
      ]
     },
     "execution_count": 2,
     "metadata": {},
     "output_type": "execute_result"
    }
   ],
   "source": [
    "import pandas as pd\n",
    "import numpy as np\n",
    "heart_disease = pd.read_csv('heart_disease.csv')\n",
    "\n",
    "## have your data in x and y\n",
    "\n",
    "X = heart_disease.drop('target', axis=1)\n",
    "y = heart_disease['target']\n",
    "\n",
    "## split into train and test data\n",
    "from sklearn.model_selection import train_test_split\n",
    "X_train, X_test, y_train, y_test = train_test_split(X, y, test_size=0.2)\n",
    "\n",
    "## import your model so as to be able to fit the necessary data\n",
    "from sklearn.ensemble import RandomForestClassifier\n",
    "np.random.seed(0)\n",
    "clf = RandomForestClassifier()\n",
    "clf.fit(X_train, y_train)\n",
    "single_score = clf.score(X_test, y_test)\n",
    "\n",
    "\n",
    "## for cross validation, import cross_val_score\n",
    "np.random.seed(0)\n",
    "from sklearn.model_selection import cross_val_score\n",
    "\n",
    "cross_val_score = cross_val_score(clf, X, y, cv=5)\n",
    "\n",
    "## find the average of your cross_val score\n",
    "import numpy as np\n",
    "\n",
    "cross_val_avg = np.mean(cross_val_score)\n",
    "cross_val_avg"
   ]
  },
  {
   "cell_type": "markdown",
   "id": "718a27cd",
   "metadata": {},
   "source": [
    "##  **Accuracy** \n",
    "\n",
    "** This model is going to 8 in 10 times accurately predict or model a similar featured variables as the one \n",
    "used in building this model ** "
   ]
  },
  {
   "cell_type": "code",
   "execution_count": 72,
   "id": "2f39cd1b",
   "metadata": {},
   "outputs": [
    {
     "name": "stdout",
     "output_type": "stream",
     "text": [
      "Heart Disease Classifier Cross-validated Accuracy: 82.48% \n"
     ]
    }
   ],
   "source": [
    "##\n",
    "print(f'Heart Disease Classifier Cross-validated Accuracy: {cross_val_avg * 100:.2f}% ')"
   ]
  },
  {
   "cell_type": "code",
   "execution_count": 14,
   "id": "d3768dce",
   "metadata": {},
   "outputs": [
    {
     "data": {
      "text/plain": [
       "(0.7704918032786885, 0.8248087431693989)"
      ]
     },
     "execution_count": 14,
     "metadata": {},
     "output_type": "execute_result"
    }
   ],
   "source": [
    "## comparing the single and cross-validated score\n",
    "\n",
    "single_score, cross_val_avg"
   ]
  },
  {
   "cell_type": "markdown",
   "id": "5925f10a",
   "metadata": {},
   "source": [
    "# Lets do a Receiver Operator Characteristics and Area Under Curve to know how close our predicted_proba_positive and the actual y_test are.\n",
    "\n",
    "**2. Area Under ROC Curve **"
   ]
  },
  {
   "cell_type": "code",
   "execution_count": 29,
   "id": "58a627fa",
   "metadata": {},
   "outputs": [
    {
     "data": {
      "text/plain": [
       "array([0.89, 0.79, 0.16, 0.61, 0.13, 0.5 , 0.04, 0.93, 0.74, 0.96, 0.28,\n",
       "       0.32, 0.01, 0.1 , 0.23, 0.  , 0.04, 0.47, 0.27, 0.74, 0.95, 0.86,\n",
       "       0.64, 0.15, 0.99, 0.13, 0.01, 0.02, 0.3 , 0.67, 0.51, 1.  , 0.88,\n",
       "       0.21, 0.29, 0.25, 0.24, 0.02, 0.55, 0.49, 0.46, 0.15, 0.78, 0.32,\n",
       "       0.64, 0.97, 0.78, 0.87, 0.07, 0.83, 0.05, 0.1 , 0.59, 0.85, 0.86,\n",
       "       0.34, 0.75, 0.39, 0.95, 0.99, 0.39])"
      ]
     },
     "execution_count": 29,
     "metadata": {},
     "output_type": "execute_result"
    }
   ],
   "source": [
    "predicted_proba = clf.predict_proba(X_test)\n",
    "## our ones will be positive, slice for only ones from the list\n",
    "predicted_proba_positive = predicted_proba[:, 1]\n",
    "predicted_proba_positive"
   ]
  },
  {
   "cell_type": "code",
   "execution_count": 38,
   "id": "db72035c",
   "metadata": {},
   "outputs": [
    {
     "data": {
      "text/plain": [
       "array([0.        , 0.        , 0.03225806, 0.03225806, 0.03225806,\n",
       "       0.03225806, 0.03225806, 0.03225806, 0.06451613, 0.06451613,\n",
       "       0.12903226, 0.12903226, 0.16129032, 0.16129032, 0.19354839,\n",
       "       0.19354839, 0.22580645, 0.22580645, 0.29032258, 0.32258065,\n",
       "       0.35483871, 0.41935484, 0.41935484, 0.4516129 , 0.4516129 ,\n",
       "       0.61290323, 0.64516129, 0.70967742, 0.74193548, 0.77419355,\n",
       "       0.77419355, 0.96774194, 1.        ])"
      ]
     },
     "execution_count": 38,
     "metadata": {},
     "output_type": "execute_result"
    }
   ],
   "source": [
    "## tpr(true positive rate) and fpr(false positive rate)\n",
    "\n",
    "from sklearn.metrics import roc_curve\n",
    "fpr, tpr, thresholds = roc_curve(y_test, predicted_proba_positive)\n",
    "fpr"
   ]
  },
  {
   "cell_type": "code",
   "execution_count": 39,
   "id": "b5f58cce",
   "metadata": {},
   "outputs": [
    {
     "data": {
      "text/plain": [
       "array([0.        , 0.03333333, 0.06666667, 0.13333333, 0.2       ,\n",
       "       0.33333333, 0.4       , 0.5       , 0.53333333, 0.56666667,\n",
       "       0.56666667, 0.6       , 0.63333333, 0.7       , 0.7       ,\n",
       "       0.73333333, 0.73333333, 0.76666667, 0.76666667, 0.8       ,\n",
       "       0.8       , 0.8       , 0.86666667, 0.86666667, 0.9       ,\n",
       "       0.9       , 0.93333333, 0.93333333, 0.96666667, 0.96666667,\n",
       "       1.        , 1.        , 1.        ])"
      ]
     },
     "execution_count": 39,
     "metadata": {},
     "output_type": "execute_result"
    }
   ],
   "source": [
    "tpr"
   ]
  },
  {
   "cell_type": "code",
   "execution_count": 150,
   "id": "4b3aa4bd",
   "metadata": {},
   "outputs": [
    {
     "data": {
      "image/png": "[encoded data removed]",
      "text/plain": [
       "<Figure size 432x288 with 1 Axes>"
      ]
     },
     "metadata": {
      "needs_background": "light"
     },
     "output_type": "display_data"
    }
   ],
   "source": [
    "## to visualize this difference, we will plot the fpr against the tpr\n",
    "\n",
    "import matplotlib.pyplot as plt\n",
    "\n",
    "def roc_curve_diff(fpr, tpr):\n",
    "    '''\n",
    "    This is a diagram showcasing the ROC Curve\n",
    "    \n",
    "    '''\n",
    "    plt.plot(fpr, tpr, label='ROC', color='orange')\n",
    "    plt.plot([0,1], [0,1], linestyle='--', label='Guessing', color='black')\n",
    "    plt.title('ROC Curve')\n",
    "    plt.xlabel('False Positive Rate')\n",
    "    plt.ylabel('True Positive Rate')\n",
    "    plt.legend(loc='best') ## is the same as not inserting anything\n",
    "    plt.show();\n",
    "    \n",
    "roc_curve_diff(fpr, tpr)"
   ]
  },
  {
   "cell_type": "markdown",
   "id": "865b1ceb",
   "metadata": {},
   "source": [
    "## Using Area Under ROC curve as an evaluation metric, this model will achieve 82 per cent effectiveness based on the difference between the true test and pred_proba_positive. In other words, this gives the diff between the fpr and tpr.\n",
    "\n",
    "** Area under ROC curve**"
   ]
  },
  {
   "cell_type": "code",
   "execution_count": 50,
   "id": "13391141",
   "metadata": {},
   "outputs": [
    {
     "data": {
      "text/plain": [
       "0.8236559139784947"
      ]
     },
     "execution_count": 50,
     "metadata": {},
     "output_type": "execute_result"
    }
   ],
   "source": [
    "## to find the difference in percentage, lets calculate roc_auc_score\n",
    "from sklearn.metrics import roc_auc_score\n",
    "\n",
    "area_under_curve = roc_auc_score(y_test, predicted_proba_positive)\n",
    "area_under_curve"
   ]
  },
  {
   "cell_type": "code",
   "execution_count": 74,
   "id": "1653da17",
   "metadata": {},
   "outputs": [
    {
     "name": "stdout",
     "output_type": "stream",
     "text": [
      "Area Under ROC curve: 82.37%\n"
     ]
    }
   ],
   "source": [
    "print(f'Area Under ROC curve: {area_under_curve * 100:.2f}%')"
   ]
  },
  {
   "cell_type": "code",
   "execution_count": 154,
   "id": "0b667735",
   "metadata": {},
   "outputs": [],
   "source": [
    "##3. Confusion Matrix"
   ]
  },
  {
   "cell_type": "code",
   "execution_count": 5,
   "id": "a3445260",
   "metadata": {},
   "outputs": [
    {
     "data": {
      "text/plain": [
       "array([[20,  9],\n",
       "       [ 3, 29]], dtype=int64)"
      ]
     },
     "execution_count": 5,
     "metadata": {},
     "output_type": "execute_result"
    }
   ],
   "source": [
    "## import confusion_matrix metric\n",
    "from sklearn.metrics import confusion_matrix\n",
    "np.random.seed(0)\n",
    "y_preds = clf.predict(X_test)\n",
    "conf_matrix = confusion_matrix(y_test, y_preds)\n",
    "conf_matrix"
   ]
  },
  {
   "cell_type": "code",
   "execution_count": 6,
   "id": "5714a705",
   "metadata": {},
   "outputs": [
    {
     "data": {
      "text/html": [
       "<div>\n",
       "<style scoped>\n",
       "    .dataframe tbody tr th:only-of-type {\n",
       "        vertical-align: middle;\n",
       "    }\n",
       "\n",
       "    .dataframe tbody tr th {\n",
       "        vertical-align: top;\n",
       "    }\n",
       "\n",
       "    .dataframe thead th {\n",
       "        text-align: right;\n",
       "    }\n",
       "</style>\n",
       "<table border=\"1\" class=\"dataframe\">\n",
       "  <thead>\n",
       "    <tr style=\"text-align: right;\">\n",
       "      <th>Predicted Values</th>\n",
       "      <th>0</th>\n",
       "      <th>1</th>\n",
       "    </tr>\n",
       "    <tr>\n",
       "      <th>Actual Values</th>\n",
       "      <th></th>\n",
       "      <th></th>\n",
       "    </tr>\n",
       "  </thead>\n",
       "  <tbody>\n",
       "    <tr>\n",
       "      <th>0</th>\n",
       "      <td>20</td>\n",
       "      <td>9</td>\n",
       "    </tr>\n",
       "    <tr>\n",
       "      <th>1</th>\n",
       "      <td>3</td>\n",
       "      <td>29</td>\n",
       "    </tr>\n",
       "  </tbody>\n",
       "</table>\n",
       "</div>"
      ],
      "text/plain": [
       "Predicted Values   0   1\n",
       "Actual Values           \n",
       "0                 20   9\n",
       "1                  3  29"
      ]
     },
     "execution_count": 6,
     "metadata": {},
     "output_type": "execute_result"
    }
   ],
   "source": [
    "pd.crosstab(y_test, y_preds, rownames=['Actual Values'], colnames=['Predicted Values'])"
   ]
  },
  {
   "cell_type": "markdown",
   "id": "e796f595",
   "metadata": {},
   "source": [
    "## To know the version of your sklearn"
   ]
  },
  {
   "cell_type": "code",
   "execution_count": 166,
   "id": "7cbfff70",
   "metadata": {},
   "outputs": [
    {
     "data": {
      "text/plain": [
       "'1.0.2'"
      ]
     },
     "execution_count": 166,
     "metadata": {},
     "output_type": "execute_result"
    }
   ],
   "source": [
    "import sklearn\n",
    "sklearn.__version__"
   ]
  },
  {
   "cell_type": "code",
   "execution_count": 7,
   "id": "c1c83c32",
   "metadata": {},
   "outputs": [
    {
     "data": {
      "text/plain": [
       "<sklearn.metrics._plot.confusion_matrix.ConfusionMatrixDisplay at 0x1a5c2051fa0>"
      ]
     },
     "execution_count": 7,
     "metadata": {},
     "output_type": "execute_result"
    },
    {
     "data": {
      "image/png": "[encoded data removed]",
      "text/plain": [
       "<Figure size 432x288 with 2 Axes>"
      ]
     },
     "metadata": {},
     "output_type": "display_data"
    }
   ],
   "source": [
    "from sklearn.metrics import ConfusionMatrixDisplay\n",
    "\n",
    "ConfusionMatrixDisplay.from_estimator(clf, X=X_test, y=y_test)"
   ]
  },
  {
   "cell_type": "code",
   "execution_count": 8,
   "id": "a693c013",
   "metadata": {},
   "outputs": [
    {
     "data": {
      "text/plain": [
       "<sklearn.metrics._plot.confusion_matrix.ConfusionMatrixDisplay at 0x1a5c2130850>"
      ]
     },
     "execution_count": 8,
     "metadata": {},
     "output_type": "execute_result"
    },
    {
     "data": {
      "image/png": "[encoded data removed]",
      "text/plain": [
       "<Figure size 432x288 with 2 Axes>"
      ]
     },
     "metadata": {},
     "output_type": "display_data"
    }
   ],
   "source": [
    "ConfusionMatrixDisplay.from_predictions(y_true=y_test, y_pred=y_preds)"
   ]
  },
  {
   "cell_type": "code",
   "execution_count": 9,
   "id": "3b9b2a4b",
   "metadata": {},
   "outputs": [
    {
     "data": {
      "image/png": "[encoded data removed]",
      "text/plain": [
       "<Figure size 432x288 with 2 Axes>"
      ]
     },
     "metadata": {},
     "output_type": "display_data"
    }
   ],
   "source": [
    "import seaborn as sns\n",
    "sns.set(font_scale=0.5)\n",
    "sns.heatmap(conf_matrix);"
   ]
  },
  {
   "cell_type": "code",
   "execution_count": null,
   "id": "d1986912",
   "metadata": {},
   "outputs": [],
   "source": []
  },
  {
   "cell_type": "code",
   "execution_count": null,
   "id": "2474180b",
   "metadata": {},
   "outputs": [],
   "source": []
  },
  {
   "cell_type": "code",
   "execution_count": null,
   "id": "adadd1bc",
   "metadata": {},
   "outputs": [],
   "source": []
  }
 ],
 "metadata": {
  "kernelspec": {
   "display_name": "Python 3 (ipykernel)",
   "language": "python",
   "name": "python3"
  },
  "language_info": {
   "codemirror_mode": {
    "name": "ipython",
    "version": 3
   },
   "file_extension": ".py",
   "mimetype": "text/x-python",
   "name": "python",
   "nbconvert_exporter": "python",
   "pygments_lexer": "ipython3",
   "version": "3.9.12"
  }
 },
 "nbformat": 4,
 "nbformat_minor": 5
}
